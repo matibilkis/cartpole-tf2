{
 "cells": [
  {
   "cell_type": "code",
   "execution_count": 3,
   "metadata": {},
   "outputs": [],
   "source": [
    "import gym\n",
    "import keras\n",
    "import datetime as dt\n",
    "import tensorflow as tf\n",
    "import random\n",
    "import numpy as np\n",
    "import math\n",
    "from tensorflow.keras.layers import Dense\n",
    "\n",
    "STORE_PATH = '/run'\n",
    "MAX_EPSILON = 1\n",
    "MIN_EPSILON = 0.01\n",
    "LAMBDA = 0.0005\n",
    "GAMMA = 0.95\n",
    "BATCH_SIZE = 32\n",
    "TAU = 0.08\n",
    "RANDOM_REWARD_STD = 1.0\n",
    "env = gym.make(\"CartPole-v1\")\n",
    "# env = gym.make(\"MountainCar-v0\")\n",
    "state_size = 4\n",
    "num_actions = env.action_space.n\n",
    "\n",
    "\n",
    "\n",
    "class Memory():\n",
    "    def __init__(self, max_memory):\n",
    "        self._max_memory = max_memory\n",
    "        self._samples = []\n",
    "    def add_sample(self, sample):\n",
    "        self._samples.append(sample)\n",
    "        if len(self._samples) > self._max_memory:\n",
    "            self._samples.pop(0)\n",
    "    def sample(self, no_samples):\n",
    "        if no_samples > len(self._samples):\n",
    "            return random.sample(self._samples, len(self._samples))\n",
    "        else:\n",
    "            return random.sample(self._samples, no_samples)\n",
    "    @property\n",
    "    def num_samples(self):\n",
    "        return len(self._samples)\n",
    "memory = Memory(50)\n",
    "\n",
    "\n",
    "class QN(tf.keras.Model):\n",
    "    def __init__(self):\n",
    "        super(QN,self).__init__()\n",
    "        self.l1 = Dense(30, input_shape=(4,), kernel_initializer='random_uniform',\n",
    "                bias_initializer='random_uniform')\n",
    "        self.l2 = Dense(30, kernel_initializer='random_uniform',\n",
    "                bias_initializer='random_uniform')\n",
    "        self.l3 = Dense(num_actions, kernel_initializer='random_uniform',\n",
    "                bias_initializer='random_uniform')\n",
    "\n",
    "    def call(self, input):\n",
    "        feat = tf.nn.relu(self.l1(input))\n",
    "        feat = tf.nn.relu(self.l2(feat))\n",
    "        value = self.l3(feat)\n",
    "        return value\n",
    "\n",
    "primary_network = QN()\n",
    "target_network = QN()\n",
    "\n",
    "\n",
    "def choose_action(state, primary_network, eps):\n",
    "    if random.random() < eps:\n",
    "        return random.randint(0, num_actions - 1)\n",
    "    else:\n",
    "        state = np.expand_dims(np.array(state),axis=0) #otherwise throuhg eerror..\n",
    "        return np.argmax(primary_network(state))\n",
    "    \n",
    "    \n",
    "def train(primary_network, memory, tarket_network):\n",
    "    if memory.num_samples < BATCH_SIZE*3:\n",
    "        return 0\n",
    "    batch = memory.sample(BATCH_SIZE)\n",
    "    states = np.array(val[0] for val in batch)\n",
    "    actions = np.array([val[1] for val in batch])\n",
    "    rewards = np.array([val[2] for val in batch])\n",
    "    next_states = np.array([(np.zeros(state_size)\n",
    "                             if val[3] is None else val[3]) for val in batch])\n",
    "   \n",
    "    prim_qt = primary_network(np.expand_dims(states,axis=0)) # Q_t[s,a]\n",
    "    prim_qtp1 = primary_network(np.expand_dims(next_states,axis=0)) #Q_{t+1}[s,a]\n",
    "        \n",
    "    updates = rewards\n",
    "    valid_idxs = np.array(next_states).sum(axis=1) != 0\n",
    "    batch_idxs = np.arange(BATCH_SIZE)\n",
    "    \n",
    "    opt_q_tp1_eachS = np.argmax(np.squeeze(prim_qtp1.numpy()), axis=0)\n",
    "    q_from_target = target_network(np.expand_dims(next_states), axis=0)\n",
    "    \n",
    "    updates[valid_idx] += GAMMA*np.squeeze(q_from_target.numpy())[valid_idx, opt_q_tp1_eachS[valid_idx]]\n",
    "    \n",
    "    target_q = np.squeeze(prim_qt.numpy())\n",
    "    target_q[batch_idxs, actions] = updates\n",
    "\n",
    "    with tf.device(\"/cpu:0\"):\n",
    "        with tf.GradientTape() as tape:\n",
    "            tape.watch(primary_network.trainable_variables)\n",
    "            predicted_q = primary_network(states)\n",
    "            target_q = np.expand_dims(target_q,axis=0)\n",
    "            loss = tf.keras.losses.MSE(predicted_q, target_q)\n",
    "            loss = tf.reduce_mean(loss)\n",
    "\n",
    "            grads = tape.gradient(loss, primary_network.trainable_variables)\n",
    "            optimizer.apply_gradients(zip(grads, primary_network.trainable_variables))\n",
    "\n",
    "    for t, e in zip(target_network.trainable_variables, primary_network.trainable_variables):\n",
    "        t.assign(t*(1-TAU) + e*TAU)\n",
    "\n",
    "    return loss\n",
    "    \n"
   ]
  },
  {
   "cell_type": "code",
   "execution_count": 2,
   "metadata": {},
   "outputs": [],
   "source": [
    "def train(primary_network, memory, tarket_network):\n",
    "    if memory.num_samples < BATCH_SIZE*3:\n",
    "        return 0\n",
    "    batch = memory.sample(BATCH_SIZE)\n",
    "    states = np.array(val[0] for val in batch)\n",
    "    actions = np.array([val[1] for val in batch])\n",
    "    rewards = np.array([val[2] for val in batch])\n",
    "    next_states = np.array([(np.zeros(state_size)\n",
    "                             if val[3] is None else val[3]) for val in batch])\n",
    "   \n",
    "    prim_qt = primary_network(np.expand_dims(states,axis=0)) # Q_t[s,a]\n",
    "    prim_qtp1 = primary_network(np.expand_dims(next_states,axis=0)) #Q_{t+1}[s,a]\n",
    "        \n",
    "    updates = rewards\n",
    "    valid_idxs = np.array(next_states).sum(axis=1) != 0\n",
    "    batch_idxs = np.arange(BATCH_SIZE)\n",
    "    \n",
    "    opt_q_tp1_eachS = np.argmax(np.squeeze(prim_qtp1.numpy()), axis=0)\n",
    "    q_from_target = target_network(np.expand_dims(next_states), axis=0)\n",
    "    \n",
    "    updates[valid_idx] += GAMMA*np.squeeze(q_from_target.numpy())[valid_idx, opt_q_tp1_eachS[valid_idx]]\n",
    "    \n",
    "    target_q = np.squeeze(prim_qt.numpy())\n",
    "    target_q[batch_idxs, actions] = updates\n",
    "\n",
    "    with tf.device(\"/cpu:0\"):\n",
    "        with tf.GradientTape() as tape:\n",
    "            tape.watch(primary_network.trainable_variables)\n",
    "            predicted_q = primary_network(states)\n",
    "            target_q = np.expand_dims(target_q,axis=0)\n",
    "            loss = tf.keras.losses.MSE(predicted_q, target_q)\n",
    "            loss = tf.reduce_mean(loss)\n",
    "\n",
    "            grads = tape.gradient(loss, primary_network.trainable_variables)\n",
    "            optimizer.apply_gradients(zip(grads, primary_network.trainable_variables))\n",
    "\n",
    "    for t, e in zip(target_network.trainable_variables, primary_network.trainable_variables):\n",
    "        t.assign(t*(1-TAU) + e*TAU)\n",
    "\n",
    "    return loss\n",
    "    "
   ]
  },
  {
   "cell_type": "code",
   "execution_count": 17,
   "metadata": {},
   "outputs": [
    {
     "name": "stderr",
     "output_type": "stream",
     "text": [
      "/home/cooper-cooper/.local/lib/python3.6/site-packages/gym/logger.py:30: UserWarning: \u001b[33mWARN: You are calling 'step()' even though this environment has already returned done = True. You should always call 'reset()' once you receive 'done = True' -- any further steps are undefined behavior.\u001b[0m\n",
      "  warnings.warn(colorize('%s: %s'%('WARN', msg % args), 'yellow'))\n"
     ]
    }
   ],
   "source": [
    "state = env.reset()\n",
    "for i in range(60):\n",
    "    action = env.action_space.sample()\n",
    "    next_state, reward, done, info = env.step(action)\n",
    "    memory.add_sample((state, action, reward, next_state))\n",
    "    state = next_state"
   ]
  },
  {
   "cell_type": "code",
   "execution_count": 18,
   "metadata": {},
   "outputs": [],
   "source": [
    "batch = memory.sample(10)"
   ]
  },
  {
   "cell_type": "code",
   "execution_count": 29,
   "metadata": {},
   "outputs": [],
   "source": [
    "states = np.array([val[0] for val in batch])\n",
    "actions = np.array([val[1] for val in batch])\n",
    "rewards = np.array([val[2] for val in batch])\n",
    "next_states = np.array([(np.zeros(state_size)\n",
    "                             if val[3] is None else val[3]) for val in batch])"
   ]
  },
  {
   "cell_type": "code",
   "execution_count": 31,
   "metadata": {},
   "outputs": [
    {
     "data": {
      "text/plain": [
       "array([[-0.97836618, -2.98492829,  1.30600539,  6.10198808],\n",
       "       [ 0.07197702,  0.02238607, -0.1029633 , -0.22086573],\n",
       "       [-1.56228939, -2.51704135,  2.81357344,  9.11456021],\n",
       "       [ 0.08232229, -0.16419128, -0.14357026, -0.11668926],\n",
       "       [ 0.07189856, -0.54975871, -0.14335451,  0.37080563],\n",
       "       [ 0.06090338, -0.742584  , -0.13593839,  0.61507463],\n",
       "       [-1.40545012, -2.48158903,  2.29619606,  8.55503281],\n",
       "       [-0.23000408, -1.71324798,  0.16478118,  1.9842409 ],\n",
       "       [ 0.07680109,  0.02535539, -0.11826402, -0.28715771],\n",
       "       [-0.84647728, -3.40053012,  1.0703208 ,  5.83750069]])"
      ]
     },
     "execution_count": 31,
     "metadata": {},
     "output_type": "execute_result"
    }
   ],
   "source": [
    "states"
   ]
  },
  {
   "cell_type": "code",
   "execution_count": 32,
   "metadata": {},
   "outputs": [
    {
     "name": "stderr",
     "output_type": "stream",
     "text": [
      "WARNING: Logging before flag parsing goes to stderr.\n",
      "W1030 11:57:44.159261 139623576430400 base_layer.py:1814] Layer qn_2 is casting an input tensor from dtype float64 to the layer's dtype of float32, which is new behavior in TensorFlow 2.  The layer has dtype float32 because it's dtype defaults to floatx.\n",
      "\n",
      "If you intended to run this layer in float32, you can safely ignore this warning. If in doubt, this warning is likely only an issue if you are porting a TensorFlow 1.X model to TensorFlow 2.\n",
      "\n",
      "To change all layers to have dtype float64 by default, call `tf.keras.backend.set_floatx('float64')`. To change just this layer, pass dtype='float64' to the layer constructor. If you are the author of this layer, you can disable autocasting by passing autocast=False to the base Layer constructor.\n",
      "\n"
     ]
    }
   ],
   "source": [
    "prim_qt = primary_network(np.expand_dims(states,axis=0)) # Q_t[s,a]\n",
    "prim_qtp1 = primary_network(np.expand_dims(next_states,axis=0)) #Q_{t+1}[s,a]\n"
   ]
  },
  {
   "cell_type": "code",
   "execution_count": 33,
   "metadata": {},
   "outputs": [
    {
     "data": {
      "text/plain": [
       "<tf.Tensor: id=124, shape=(1, 10, 2), dtype=float32, numpy=\n",
       "array([[[ 0.02813783, -0.00222196],\n",
       "        [ 0.02857228, -0.00535921],\n",
       "        [ 0.02770496, -0.00064244],\n",
       "        [ 0.02851255, -0.00530304],\n",
       "        [ 0.02832131, -0.00509667],\n",
       "        [ 0.02823165, -0.00498947],\n",
       "        [ 0.02783949, -0.00074054],\n",
       "        [ 0.02813262, -0.00456427],\n",
       "        [ 0.02859422, -0.00536845],\n",
       "        [ 0.02805543, -0.00271018]]], dtype=float32)>"
      ]
     },
     "execution_count": 33,
     "metadata": {},
     "output_type": "execute_result"
    }
   ],
   "source": [
    "prim_qt"
   ]
  },
  {
   "cell_type": "code",
   "execution_count": 34,
   "metadata": {},
   "outputs": [
    {
     "data": {
      "text/plain": [
       "<tf.Tensor: id=170, shape=(1, 10, 2), dtype=float32, numpy=\n",
       "array([[[ 0.02814264, -0.00206854],\n",
       "        [ 0.02866961, -0.00539125],\n",
       "        [ 0.02755707, -0.0006103 ],\n",
       "        [ 0.0284155 , -0.00520371],\n",
       "        [ 0.02823165, -0.00498947],\n",
       "        [ 0.02820428, -0.00487988],\n",
       "        [ 0.02784084, -0.000725  ],\n",
       "        [ 0.02808827, -0.00447877],\n",
       "        [ 0.02868405, -0.0053953 ],\n",
       "        [ 0.02809866, -0.00247803]]], dtype=float32)>"
      ]
     },
     "execution_count": 34,
     "metadata": {},
     "output_type": "execute_result"
    }
   ],
   "source": [
    "prim_qtp1"
   ]
  },
  {
   "cell_type": "code",
   "execution_count": 36,
   "metadata": {},
   "outputs": [
    {
     "data": {
      "text/plain": [
       "array([0., 1., 0., 1., 1., 1., 0., 1., 1., 0.])"
      ]
     },
     "execution_count": 36,
     "metadata": {},
     "output_type": "execute_result"
    }
   ],
   "source": [
    "updates = rewards\n",
    "updates"
   ]
  },
  {
   "cell_type": "code",
   "execution_count": 38,
   "metadata": {},
   "outputs": [
    {
     "data": {
      "text/plain": [
       "array([ True,  True,  True,  True,  True,  True,  True,  True,  True,\n",
       "        True])"
      ]
     },
     "execution_count": 38,
     "metadata": {},
     "output_type": "execute_result"
    }
   ],
   "source": [
    "valid_idxs = np.array(next_states).sum(axis=1) != 0\n",
    "valid_idxs"
   ]
  },
  {
   "cell_type": "code",
   "execution_count": 40,
   "metadata": {},
   "outputs": [],
   "source": [
    "batch_idxs = np.arange(10)"
   ]
  },
  {
   "cell_type": "code",
   "execution_count": 44,
   "metadata": {},
   "outputs": [],
   "source": [
    "opt_q_tp1_eachS = np.argmax(np.squeeze(prim_qtp1.numpy()), axis=1)\n"
   ]
  },
  {
   "cell_type": "code",
   "execution_count": 45,
   "metadata": {},
   "outputs": [
    {
     "data": {
      "text/plain": [
       "array([0, 0, 0, 0, 0, 0, 0, 0, 0, 0])"
      ]
     },
     "execution_count": 45,
     "metadata": {},
     "output_type": "execute_result"
    }
   ],
   "source": [
    "opt_q_tp1_eachS"
   ]
  },
  {
   "cell_type": "code",
   "execution_count": 47,
   "metadata": {},
   "outputs": [
    {
     "name": "stderr",
     "output_type": "stream",
     "text": [
      "W1030 12:06:32.241358 139623576430400 base_layer.py:1814] Layer qn_3 is casting an input tensor from dtype float64 to the layer's dtype of float32, which is new behavior in TensorFlow 2.  The layer has dtype float32 because it's dtype defaults to floatx.\n",
      "\n",
      "If you intended to run this layer in float32, you can safely ignore this warning. If in doubt, this warning is likely only an issue if you are porting a TensorFlow 1.X model to TensorFlow 2.\n",
      "\n",
      "To change all layers to have dtype float64 by default, call `tf.keras.backend.set_floatx('float64')`. To change just this layer, pass dtype='float64' to the layer constructor. If you are the author of this layer, you can disable autocasting by passing autocast=False to the base Layer constructor.\n",
      "\n"
     ]
    }
   ],
   "source": [
    "q_from_target = target_network(np.expand_dims(next_states, axis=0))"
   ]
  },
  {
   "cell_type": "code",
   "execution_count": 48,
   "metadata": {},
   "outputs": [
    {
     "data": {
      "text/plain": [
       "<tf.Tensor: id=294, shape=(1, 10, 2), dtype=float32, numpy=\n",
       "array([[[ 0.01157035, -0.04272651],\n",
       "        [ 0.01184477, -0.04194078],\n",
       "        [ 0.01122182, -0.04295984],\n",
       "        [ 0.01174406, -0.04222467],\n",
       "        [ 0.01182225, -0.04239814],\n",
       "        [ 0.01187006, -0.04246003],\n",
       "        [ 0.01126141, -0.04278949],\n",
       "        [ 0.01190042, -0.04264418],\n",
       "        [ 0.01185436, -0.04194633],\n",
       "        [ 0.01167748, -0.04278158]]], dtype=float32)>"
      ]
     },
     "execution_count": 48,
     "metadata": {},
     "output_type": "execute_result"
    }
   ],
   "source": [
    "q_from_target"
   ]
  },
  {
   "cell_type": "code",
   "execution_count": 52,
   "metadata": {},
   "outputs": [
    {
     "data": {
      "text/plain": [
       "array([[ 0.01157035, -0.04272651],\n",
       "       [ 0.01184477, -0.04194078],\n",
       "       [ 0.01122182, -0.04295984],\n",
       "       [ 0.01174406, -0.04222467],\n",
       "       [ 0.01182225, -0.04239814],\n",
       "       [ 0.01187006, -0.04246003],\n",
       "       [ 0.01126141, -0.04278949],\n",
       "       [ 0.01190042, -0.04264418],\n",
       "       [ 0.01185436, -0.04194633],\n",
       "       [ 0.01167748, -0.04278158]], dtype=float32)"
      ]
     },
     "execution_count": 52,
     "metadata": {},
     "output_type": "execute_result"
    }
   ],
   "source": [
    "np.squeeze(q_from_target.numpy())[valid_idxs,:]"
   ]
  },
  {
   "cell_type": "code",
   "execution_count": 54,
   "metadata": {},
   "outputs": [
    {
     "data": {
      "text/plain": [
       "array([0.01157035, 0.01184477, 0.01122182, 0.01174406, 0.01182225,\n",
       "       0.01187006, 0.01126141, 0.01190042, 0.01185436, 0.01167748],\n",
       "      dtype=float32)"
      ]
     },
     "execution_count": 54,
     "metadata": {},
     "output_type": "execute_result"
    }
   ],
   "source": [
    "np.squeeze(q_from_target.numpy())[valid_idxs,opt_q_tp1_eachS[valid_idxs]]"
   ]
  },
  {
   "cell_type": "code",
   "execution_count": 58,
   "metadata": {},
   "outputs": [],
   "source": [
    "updates[valid_idxs] += GAMMA*np.squeeze(q_from_target.numpy())[valid_idxs, opt_q_tp1_eachS[valid_idxs]]"
   ]
  },
  {
   "cell_type": "code",
   "execution_count": 64,
   "metadata": {},
   "outputs": [],
   "source": [
    "\n",
    "target_q = np.squeeze(prim_qt.numpy())\n",
    "target_q[batch_idxs, actions] = updates\n"
   ]
  },
  {
   "cell_type": "code",
   "execution_count": 65,
   "metadata": {},
   "outputs": [
    {
     "data": {
      "text/plain": [
       "array([[ 1.09918285e-02, -2.22195592e-03],\n",
       "       [ 2.85722818e-02,  1.01125252e+00],\n",
       "       [ 2.77049579e-02,  1.06607312e-02],\n",
       "       [ 1.01115680e+00, -5.30303875e-03],\n",
       "       [ 1.01123118e+00, -5.09666838e-03],\n",
       "       [ 1.01127660e+00, -4.98947175e-03],\n",
       "       [ 1.06983380e-02, -7.40542077e-04],\n",
       "       [ 1.01130545e+00, -4.56427224e-03],\n",
       "       [ 2.85942201e-02,  1.01126170e+00],\n",
       "       [ 2.80554295e-02,  1.10936053e-02]], dtype=float32)"
      ]
     },
     "execution_count": 65,
     "metadata": {},
     "output_type": "execute_result"
    }
   ],
   "source": [
    "target_q"
   ]
  },
  {
   "cell_type": "code",
   "execution_count": 75,
   "metadata": {},
   "outputs": [],
   "source": [
    "optimizer = tf.keras.optimizers.Adam(lr=0.01)\n"
   ]
  },
  {
   "cell_type": "code",
   "execution_count": null,
   "metadata": {},
   "outputs": [],
   "source": []
  }
 ],
 "metadata": {
  "kernelspec": {
   "display_name": "Python 3",
   "language": "python",
   "name": "python3"
  },
  "language_info": {
   "codemirror_mode": {
    "name": "ipython",
    "version": 3
   },
   "file_extension": ".py",
   "mimetype": "text/x-python",
   "name": "python",
   "nbconvert_exporter": "python",
   "pygments_lexer": "ipython3",
   "version": "3.6.8"
  }
 },
 "nbformat": 4,
 "nbformat_minor": 2
}
