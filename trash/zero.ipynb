{
 "cells": [
  {
   "cell_type": "code",
   "execution_count": 5,
   "metadata": {},
   "outputs": [],
   "source": [
    "import gym\n",
    "import keras\n",
    "import datetime as dt\n",
    "import tensorflow as tf\n",
    "import random\n",
    "import numpy as np\n",
    "import math\n",
    "from tensorflow.keras.layers import Dense\n",
    "\n",
    "STORE_PATH = '/run'\n",
    "MAX_EPSILON = 1\n",
    "MIN_EPSILON = 0.01\n",
    "LAMBDA = 0.0005\n",
    "GAMMA = 0.95\n",
    "BATCH_SIZE = 32\n",
    "TAU = 0.08\n",
    "RANDOM_REWARD_STD = 1.0\n",
    "env = gym.make(\"CartPole-v1\")\n",
    "# env = gym.make(\"MountainCar-v0\")\n",
    "state_size = 4\n",
    "num_actions = env.action_space.n\n",
    "\n",
    "\n",
    "\n",
    "class Memory():\n",
    "    def __init__(self, max_memory):\n",
    "        self._max_memory = max_memory\n",
    "        self._samples = []\n",
    "    def add_sample(self, sample):\n",
    "        self._samples.append(sample)\n",
    "        if len(self._samples) > self._max_memory:\n",
    "            self._samples.pop(0)\n",
    "    def sample(self, no_samples):\n",
    "        if no_samples > len(self._samples):\n",
    "            return random.sample(self._samples, len(self._samples))\n",
    "        else:\n",
    "            return random.sample(self._samples, no_samples)\n",
    "    @property\n",
    "    def num_samples(self):\n",
    "        return len(self._samples)\n",
    "memory = Memory(50000)\n",
    "\n",
    "\n",
    "class QN(tf.keras.Model):\n",
    "    def __init__(self):\n",
    "        super(QN,self).__init__()\n",
    "        self.l1 = Dense(30, input_shape=(4,), kernel_initializer='random_uniform',\n",
    "                bias_initializer='random_uniform')\n",
    "        self.l2 = Dense(30, kernel_initializer='random_uniform',\n",
    "                bias_initializer='random_uniform')\n",
    "        self.l3 = Dense(num_actions, kernel_initializer='random_uniform',\n",
    "                bias_initializer='random_uniform')\n",
    "\n",
    "    def call(self, input):\n",
    "        feat = tf.nn.relu(self.l1(input))\n",
    "        feat = tf.nn.relu(self.l2(feat))\n",
    "        value = self.l3(feat)\n",
    "        return value\n",
    "\n",
    "primary_network = QN()\n",
    "target_network = QN()\n",
    "\n",
    "\n",
    "def choose_action(state, primary_network, eps):\n",
    "    if random.random() < eps:\n",
    "        return random.randint(0, num_actions - 1)\n",
    "    else:\n",
    "        state = np.expand_dims(np.array(state),axis=0) #otherwise throuhg eerror..\n",
    "        return np.argmax(primary_network(state))\n"
   ]
  },
  {
   "cell_type": "markdown",
   "metadata": {},
   "source": [
    "Example choosing actions."
   ]
  },
  {
   "cell_type": "code",
   "execution_count": 32,
   "metadata": {},
   "outputs": [],
   "source": [
    "env.reset()\n",
    "s, r, _, _ = env.step(env.action_space.sample())\n",
    "choose_action(s, primary_network, 1)"
   ]
  },
  {
   "cell_type": "code",
   "execution_count": null,
   "metadata": {},
   "outputs": [],
   "source": [
    "def train(primary_network, memory, tarket_network):\n",
    "    if memory.num_samples < BATCH_SIZE*3:\n",
    "        return 0\n",
    "    batch = memory.sample(BATCH_SIZE)\n",
    "    states = np.array(val[0] for val in batch)\n",
    "    actions = np.array([val[1] for val in batch])\n",
    "    rewards = np.array([val[2] for val in batch])\n",
    "    next_states = np.array([(np.zeros(state_size)\n",
    "                             if val[3] is None else val[3]) for val in batch])\n",
    "   \n",
    "    prim_qt = primary_network(np.expand_dims(states,axis=0)) # Q_t[s,a]\n",
    "    prim_qtp1 = primary_network(np.expand_dims(next_states,axis=0)) #Q_{t+1}[s,a]\n",
    "        \n",
    "    updates = rewards\n",
    "    valid_idxs = np.array(next_states).sum(axis=1) != 0\n",
    "    batch_idxs = np.arange(BATCH_SIZE)\n",
    "    \n",
    "    opt_q_tp1_eachS = np.argmax(np.squeeze(prim_qtp1.numpy()), axis=0)\n",
    "    q_from_target = target_network(np.expand_dims(next_states), axis=0)\n",
    "    \n",
    "    updates[valid_idx] += GAMMA*np.squeeze(q_from_target.numpy())[valid_idx, opt_q_tp1_eachS[valid_idx]]\n",
    "    \n",
    "    target_q = np.squeeze(prim_qt.numpy())\n",
    "    target_q[batch_idxs, actions] = updates\n",
    "    \n",
    "    \n",
    "    "
   ]
  },
  {
   "cell_type": "markdown",
   "metadata": {},
   "source": [
    "Take the greedy... you have to flatten the result"
   ]
  },
  {
   "cell_type": "code",
   "execution_count": 60,
   "metadata": {},
   "outputs": [
    {
     "data": {
      "text/plain": [
       "array([ 0.03240588, -0.01948925], dtype=float32)"
      ]
     },
     "execution_count": 60,
     "metadata": {},
     "output_type": "execute_result"
    }
   ],
   "source": [
    "primary_network(np.expand_dims(np.array(s),axis=0)).numpy().flatten()"
   ]
  },
  {
   "cell_type": "code",
   "execution_count": 70,
   "metadata": {},
   "outputs": [],
   "source": [
    "st=[]\n",
    "rs = []\n",
    "for i in range(6):\n",
    "\n",
    "    env.reset()\n",
    "    s, r, _, _ = env.step(env.action_space.sample())\n",
    "    st.append(s)\n",
    "    rs.append(r)\n",
    "st = np.array(st)\n",
    "st = np.expand_dims(st, axis=0)"
   ]
  },
  {
   "cell_type": "code",
   "execution_count": 66,
   "metadata": {},
   "outputs": [
    {
     "name": "stdout",
     "output_type": "stream",
     "text": [
      "[[[ 0.03242542 -0.01943645]\n",
      "  [ 0.0324225  -0.01945483]\n",
      "  [ 0.03222738 -0.01931404]\n",
      "  [ 0.03220891 -0.01935516]\n",
      "  [ 0.03243838 -0.01942815]\n",
      "  [ 0.03221222 -0.01934218]]]\n"
     ]
    }
   ],
   "source": [
    "q_values = primary_network(st).numpy()\n",
    "print(q_values)\n",
    "qtarget = np.squeeze(q_values)"
   ]
  },
  {
   "cell_type": "code",
   "execution_count": 68,
   "metadata": {},
   "outputs": [
    {
     "data": {
      "text/plain": [
       "array([[ 0.0324225 , -0.01945483],\n",
       "       [ 0.03220891, -0.01935516]], dtype=float32)"
      ]
     },
     "execution_count": 68,
     "metadata": {},
     "output_type": "execute_result"
    }
   ],
   "source": [
    "qtarget[np.array([1,3]),:]"
   ]
  },
  {
   "cell_type": "code",
   "execution_count": 69,
   "metadata": {},
   "outputs": [
    {
     "data": {
      "text/plain": [
       "array([0.0324225 , 0.03220891], dtype=float32)"
      ]
     },
     "execution_count": 69,
     "metadata": {},
     "output_type": "execute_result"
    }
   ],
   "source": [
    "np.amax(qtarget[np.array([1,3]),:],axis=1)"
   ]
  },
  {
   "cell_type": "code",
   "execution_count": null,
   "metadata": {},
   "outputs": [],
   "source": []
  },
  {
   "cell_type": "code",
   "execution_count": 106,
   "metadata": {},
   "outputs": [],
   "source": [
    "st=[]\n",
    "ns=[]\n",
    "rs = []\n",
    "for i in range(6):\n",
    "    env.reset()\n",
    "    s, r, _, k = env.step(env.action_space.sample())\n",
    "    st.append(s)\n",
    "    rs.append(r)\n",
    "    ns.append(np.random.random(4))\n",
    "st = np.array(st)\n",
    "ns = np.array(ns)"
   ]
  },
  {
   "cell_type": "code",
   "execution_count": 107,
   "metadata": {},
   "outputs": [],
   "source": [
    "prim_qt = primary_network(np.expand_dims(st, axis=0))\n",
    "prim_qtp1 = primary_network(np.expand_dims(ns, axis=0))"
   ]
  },
  {
   "cell_type": "code",
   "execution_count": 109,
   "metadata": {},
   "outputs": [],
   "source": [
    "target_q = prim_qt.numpy()"
   ]
  },
  {
   "cell_type": "code",
   "execution_count": 111,
   "metadata": {},
   "outputs": [],
   "source": [
    "updates = np.array(rs)"
   ]
  },
  {
   "cell_type": "code",
   "execution_count": 112,
   "metadata": {},
   "outputs": [],
   "source": [
    "prim_action_tp1 = np.argmax(prim_qtp1.numpy(), axis=1)"
   ]
  },
  {
   "cell_type": "code",
   "execution_count": 114,
   "metadata": {},
   "outputs": [
    {
     "data": {
      "text/plain": [
       "(array([[0, 0]]), array([[1, 1]]), array([[0, 0]]))"
      ]
     },
     "execution_count": 114,
     "metadata": {},
     "output_type": "execute_result"
    }
   ],
   "source": [
    "np.unravel_index(prim_action_tp1, prim_qtp1.shape)"
   ]
  },
  {
   "cell_type": "code",
   "execution_count": 115,
   "metadata": {},
   "outputs": [
    {
     "data": {
      "text/plain": [
       "<tf.Tensor: id=1017, shape=(1, 6, 2), dtype=float32, numpy=\n",
       "array([[[ 0.03243664, -0.0192413 ],\n",
       "        [ 0.03253958, -0.01921705],\n",
       "        [ 0.0326048 , -0.01918852],\n",
       "        [ 0.03226434, -0.01971841],\n",
       "        [ 0.03234761, -0.01968653],\n",
       "        [ 0.03209767, -0.01951555]]], dtype=float32)>"
      ]
     },
     "execution_count": 115,
     "metadata": {},
     "output_type": "execute_result"
    }
   ],
   "source": [
    "prim_qtp1"
   ]
  },
  {
   "cell_type": "code",
   "execution_count": 116,
   "metadata": {},
   "outputs": [],
   "source": [
    "qt = prim_qtp1"
   ]
  },
  {
   "cell_type": "code",
   "execution_count": 119,
   "metadata": {},
   "outputs": [],
   "source": [
    "qtt1 = np.squeeze(qt.numpy())"
   ]
  },
  {
   "cell_type": "code",
   "execution_count": 120,
   "metadata": {},
   "outputs": [
    {
     "data": {
      "text/plain": [
       "array([[ 0.03243664, -0.0192413 ],\n",
       "       [ 0.03253958, -0.01921705],\n",
       "       [ 0.0326048 , -0.01918852],\n",
       "       [ 0.03226434, -0.01971841],\n",
       "       [ 0.03234761, -0.01968653],\n",
       "       [ 0.03209767, -0.01951555]], dtype=float32)"
      ]
     },
     "execution_count": 120,
     "metadata": {},
     "output_type": "execute_result"
    }
   ],
   "source": [
    "qtt1"
   ]
  },
  {
   "cell_type": "code",
   "execution_count": 123,
   "metadata": {},
   "outputs": [
    {
     "data": {
      "text/plain": [
       "array([0, 0, 0, 0, 0, 0])"
      ]
     },
     "execution_count": 123,
     "metadata": {},
     "output_type": "execute_result"
    }
   ],
   "source": [
    "np.argmax(qtt1, axis=1)"
   ]
  },
  {
   "cell_type": "code",
   "execution_count": null,
   "metadata": {},
   "outputs": [],
   "source": []
  }
 ],
 "metadata": {
  "kernelspec": {
   "display_name": "Python 3",
   "language": "python",
   "name": "python3"
  },
  "language_info": {
   "codemirror_mode": {
    "name": "ipython",
    "version": 3
   },
   "file_extension": ".py",
   "mimetype": "text/x-python",
   "name": "python",
   "nbconvert_exporter": "python",
   "pygments_lexer": "ipython3",
   "version": "3.6.8"
  }
 },
 "nbformat": 4,
 "nbformat_minor": 2
}
